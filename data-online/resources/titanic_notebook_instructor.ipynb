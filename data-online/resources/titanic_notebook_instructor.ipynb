{
 "cells": [
  {
   "cell_type": "code",
   "execution_count": 1,
   "id": "incorporated-twenty",
   "metadata": {},
   "outputs": [],
   "source": [
    "import pandas as pd\n",
    "import seaborn as sns\n",
    "import numpy as np\n",
    "# uncomment the line below only in Google Collab\n",
    "#!pip install pandasql  \n",
    "import pandasql as psql\n",
    "pd.options.display.max_rows = 1000"
   ]
  },
  {
   "cell_type": "markdown",
   "id": "independent-minneapolis",
   "metadata": {},
   "source": [
    "# Data Try Coding"
   ]
  },
  {
   "cell_type": "markdown",
   "id": "ranging-design",
   "metadata": {},
   "source": [
    "## Titanic Data\n",
    "\n",
    "The data we will be using comes from the [Titanic Kaggle competition](https://www.kaggle.com/c/titanic/data). This dataset records key elements (including survival) from a sampling of passengers onboard the Titanic. Use the `Data Dictionary` section (from the link above) to get information about each column. The goal of this exercise is to use Dataframes and SQL to explore and manipulate the data to answer questions about passengers on the Titanic."
   ]
  },
  {
   "cell_type": "markdown",
   "id": "fallen-greece",
   "metadata": {},
   "source": [
    "## Instructions\n",
    "\n",
    "Upload this jupyter notebook to [google collab](https://colab.research.google.com/) and upload the `titanic.csv` dataset to to the `sample_data` folder. Run the top cell to make sure you are able to run all the packages required for this exercise."
   ]
  },
  {
   "cell_type": "markdown",
   "id": "aboriginal-tissue",
   "metadata": {},
   "source": [
    "## Load Data"
   ]
  },
  {
   "cell_type": "markdown",
   "id": "loved-portrait",
   "metadata": {},
   "source": [
    "##### 1. [Read](https://pandas.pydata.org/docs/reference/api/pandas.read_csv.html) in the data (`titanic_data.csv`) as a dataframe, set it to a variable `data`, and get the [shape](https://pandas.pydata.org/docs/reference/api/pandas.DataFrame.shape.html) of the dataframe. The shape shows the number of columns and rows."
   ]
  },
  {
   "cell_type": "markdown",
   "id": "maritime-shadow",
   "metadata": {},
   "source": [
    "Instructor Note: Getting the shape of the data helps get a sense of the size of the data you are working with. Large numbers could indicate that data processing may take time and may be difficult to work with on your local machine."
   ]
  },
  {
   "cell_type": "code",
   "execution_count": 2,
   "id": "vanilla-celebrity",
   "metadata": {},
   "outputs": [
    {
     "data": {
      "text/plain": [
       "(891, 12)"
      ]
     },
     "execution_count": 2,
     "metadata": {},
     "output_type": "execute_result"
    }
   ],
   "source": [
    "# change reference to '/content/sample_data/titanic_data.csv' when using Google Collab\n",
    "data = pd.read_csv('titanic_data.csv')\n",
    "data.shape"
   ]
  },
  {
   "cell_type": "code",
   "execution_count": 3,
   "id": "prepared-hayes",
   "metadata": {},
   "outputs": [],
   "source": [
    "assert data.shape[0] == 891\n",
    "assert data.shape[1] == 12"
   ]
  },
  {
   "cell_type": "markdown",
   "id": "fabulous-alexander",
   "metadata": {},
   "source": [
    "##### 2. Display the first 10 rows of the dataset. Hint look at the [head](https://pandas.pydata.org/docs/reference/api/pandas.DataFrame.head.html) function."
   ]
  },
  {
   "cell_type": "markdown",
   "id": "serial-employee",
   "metadata": {},
   "source": [
    "Instructor Note: Its always good to do visually inspect a few rows so you have a sense of what the data looks like. Often it can help bring to light columns with frequently null values for further exploration."
   ]
  },
  {
   "cell_type": "code",
   "execution_count": 5,
   "id": "effective-invitation",
   "metadata": {},
   "outputs": [
    {
     "data": {
      "text/html": [
       "<div>\n",
       "<style scoped>\n",
       "    .dataframe tbody tr th:only-of-type {\n",
       "        vertical-align: middle;\n",
       "    }\n",
       "\n",
       "    .dataframe tbody tr th {\n",
       "        vertical-align: top;\n",
       "    }\n",
       "\n",
       "    .dataframe thead th {\n",
       "        text-align: right;\n",
       "    }\n",
       "</style>\n",
       "<table border=\"1\" class=\"dataframe\">\n",
       "  <thead>\n",
       "    <tr style=\"text-align: right;\">\n",
       "      <th></th>\n",
       "      <th>PassengerId</th>\n",
       "      <th>Survived</th>\n",
       "      <th>Pclass</th>\n",
       "      <th>Name</th>\n",
       "      <th>Sex</th>\n",
       "      <th>Age</th>\n",
       "      <th>SibSp</th>\n",
       "      <th>Parch</th>\n",
       "      <th>Ticket</th>\n",
       "      <th>Fare</th>\n",
       "      <th>Cabin</th>\n",
       "      <th>Embarked</th>\n",
       "    </tr>\n",
       "  </thead>\n",
       "  <tbody>\n",
       "    <tr>\n",
       "      <th>0</th>\n",
       "      <td>1</td>\n",
       "      <td>0</td>\n",
       "      <td>3</td>\n",
       "      <td>Braund, Mr. Owen Harris</td>\n",
       "      <td>male</td>\n",
       "      <td>22.0</td>\n",
       "      <td>1</td>\n",
       "      <td>0</td>\n",
       "      <td>A/5 21171</td>\n",
       "      <td>7.2500</td>\n",
       "      <td>NaN</td>\n",
       "      <td>S</td>\n",
       "    </tr>\n",
       "    <tr>\n",
       "      <th>1</th>\n",
       "      <td>2</td>\n",
       "      <td>1</td>\n",
       "      <td>1</td>\n",
       "      <td>Cumings, Mrs. John Bradley (Florence Briggs Th...</td>\n",
       "      <td>female</td>\n",
       "      <td>38.0</td>\n",
       "      <td>1</td>\n",
       "      <td>0</td>\n",
       "      <td>PC 17599</td>\n",
       "      <td>71.2833</td>\n",
       "      <td>C85</td>\n",
       "      <td>C</td>\n",
       "    </tr>\n",
       "    <tr>\n",
       "      <th>2</th>\n",
       "      <td>3</td>\n",
       "      <td>1</td>\n",
       "      <td>3</td>\n",
       "      <td>Heikkinen, Miss. Laina</td>\n",
       "      <td>female</td>\n",
       "      <td>26.0</td>\n",
       "      <td>0</td>\n",
       "      <td>0</td>\n",
       "      <td>STON/O2. 3101282</td>\n",
       "      <td>7.9250</td>\n",
       "      <td>NaN</td>\n",
       "      <td>S</td>\n",
       "    </tr>\n",
       "    <tr>\n",
       "      <th>3</th>\n",
       "      <td>4</td>\n",
       "      <td>1</td>\n",
       "      <td>1</td>\n",
       "      <td>Futrelle, Mrs. Jacques Heath (Lily May Peel)</td>\n",
       "      <td>female</td>\n",
       "      <td>35.0</td>\n",
       "      <td>1</td>\n",
       "      <td>0</td>\n",
       "      <td>113803</td>\n",
       "      <td>53.1000</td>\n",
       "      <td>C123</td>\n",
       "      <td>S</td>\n",
       "    </tr>\n",
       "    <tr>\n",
       "      <th>4</th>\n",
       "      <td>5</td>\n",
       "      <td>0</td>\n",
       "      <td>3</td>\n",
       "      <td>Allen, Mr. William Henry</td>\n",
       "      <td>male</td>\n",
       "      <td>35.0</td>\n",
       "      <td>0</td>\n",
       "      <td>0</td>\n",
       "      <td>373450</td>\n",
       "      <td>8.0500</td>\n",
       "      <td>NaN</td>\n",
       "      <td>S</td>\n",
       "    </tr>\n",
       "    <tr>\n",
       "      <th>5</th>\n",
       "      <td>6</td>\n",
       "      <td>0</td>\n",
       "      <td>3</td>\n",
       "      <td>Moran, Mr. James</td>\n",
       "      <td>male</td>\n",
       "      <td>NaN</td>\n",
       "      <td>0</td>\n",
       "      <td>0</td>\n",
       "      <td>330877</td>\n",
       "      <td>8.4583</td>\n",
       "      <td>NaN</td>\n",
       "      <td>Q</td>\n",
       "    </tr>\n",
       "    <tr>\n",
       "      <th>6</th>\n",
       "      <td>7</td>\n",
       "      <td>0</td>\n",
       "      <td>1</td>\n",
       "      <td>McCarthy, Mr. Timothy J</td>\n",
       "      <td>male</td>\n",
       "      <td>54.0</td>\n",
       "      <td>0</td>\n",
       "      <td>0</td>\n",
       "      <td>17463</td>\n",
       "      <td>51.8625</td>\n",
       "      <td>E46</td>\n",
       "      <td>S</td>\n",
       "    </tr>\n",
       "    <tr>\n",
       "      <th>7</th>\n",
       "      <td>8</td>\n",
       "      <td>0</td>\n",
       "      <td>3</td>\n",
       "      <td>Palsson, Master. Gosta Leonard</td>\n",
       "      <td>male</td>\n",
       "      <td>2.0</td>\n",
       "      <td>3</td>\n",
       "      <td>1</td>\n",
       "      <td>349909</td>\n",
       "      <td>21.0750</td>\n",
       "      <td>NaN</td>\n",
       "      <td>S</td>\n",
       "    </tr>\n",
       "    <tr>\n",
       "      <th>8</th>\n",
       "      <td>9</td>\n",
       "      <td>1</td>\n",
       "      <td>3</td>\n",
       "      <td>Johnson, Mrs. Oscar W (Elisabeth Vilhelmina Berg)</td>\n",
       "      <td>female</td>\n",
       "      <td>27.0</td>\n",
       "      <td>0</td>\n",
       "      <td>2</td>\n",
       "      <td>347742</td>\n",
       "      <td>11.1333</td>\n",
       "      <td>NaN</td>\n",
       "      <td>S</td>\n",
       "    </tr>\n",
       "    <tr>\n",
       "      <th>9</th>\n",
       "      <td>10</td>\n",
       "      <td>1</td>\n",
       "      <td>2</td>\n",
       "      <td>Nasser, Mrs. Nicholas (Adele Achem)</td>\n",
       "      <td>female</td>\n",
       "      <td>14.0</td>\n",
       "      <td>1</td>\n",
       "      <td>0</td>\n",
       "      <td>237736</td>\n",
       "      <td>30.0708</td>\n",
       "      <td>NaN</td>\n",
       "      <td>C</td>\n",
       "    </tr>\n",
       "  </tbody>\n",
       "</table>\n",
       "</div>"
      ],
      "text/plain": [
       "   PassengerId  Survived  Pclass  \\\n",
       "0            1         0       3   \n",
       "1            2         1       1   \n",
       "2            3         1       3   \n",
       "3            4         1       1   \n",
       "4            5         0       3   \n",
       "5            6         0       3   \n",
       "6            7         0       1   \n",
       "7            8         0       3   \n",
       "8            9         1       3   \n",
       "9           10         1       2   \n",
       "\n",
       "                                                Name     Sex   Age  SibSp  \\\n",
       "0                            Braund, Mr. Owen Harris    male  22.0      1   \n",
       "1  Cumings, Mrs. John Bradley (Florence Briggs Th...  female  38.0      1   \n",
       "2                             Heikkinen, Miss. Laina  female  26.0      0   \n",
       "3       Futrelle, Mrs. Jacques Heath (Lily May Peel)  female  35.0      1   \n",
       "4                           Allen, Mr. William Henry    male  35.0      0   \n",
       "5                                   Moran, Mr. James    male   NaN      0   \n",
       "6                            McCarthy, Mr. Timothy J    male  54.0      0   \n",
       "7                     Palsson, Master. Gosta Leonard    male   2.0      3   \n",
       "8  Johnson, Mrs. Oscar W (Elisabeth Vilhelmina Berg)  female  27.0      0   \n",
       "9                Nasser, Mrs. Nicholas (Adele Achem)  female  14.0      1   \n",
       "\n",
       "   Parch            Ticket     Fare Cabin Embarked  \n",
       "0      0         A/5 21171   7.2500   NaN        S  \n",
       "1      0          PC 17599  71.2833   C85        C  \n",
       "2      0  STON/O2. 3101282   7.9250   NaN        S  \n",
       "3      0            113803  53.1000  C123        S  \n",
       "4      0            373450   8.0500   NaN        S  \n",
       "5      0            330877   8.4583   NaN        Q  \n",
       "6      0             17463  51.8625   E46        S  \n",
       "7      1            349909  21.0750   NaN        S  \n",
       "8      2            347742  11.1333   NaN        S  \n",
       "9      0            237736  30.0708   NaN        C  "
      ]
     },
     "execution_count": 5,
     "metadata": {},
     "output_type": "execute_result"
    }
   ],
   "source": [
    "data.head(10)"
   ]
  },
  {
   "cell_type": "markdown",
   "id": "weighted-thong",
   "metadata": {},
   "source": [
    "## Summary Statistics"
   ]
  },
  {
   "cell_type": "markdown",
   "id": "careful-somalia",
   "metadata": {},
   "source": [
    "##### 1. Display the column data types and number of non-null records. (Hint: look at [info](https://pandas.pydata.org/docs/reference/api/pandas.DataFrame.info.html) function)."
   ]
  },
  {
   "cell_type": "markdown",
   "id": "lesbian-authentication",
   "metadata": {},
   "source": [
    "Instructor Note: Its important to get a sense of the type of each column because categorical (object) types are treated differently than numerical types in analytics. Numerical types allow for descriptive statistics to be used while categorical data is not continuous and often under the hood gets split out into individual columns that represent each category."
   ]
  },
  {
   "cell_type": "code",
   "execution_count": 6,
   "id": "applicable-honey",
   "metadata": {},
   "outputs": [
    {
     "name": "stdout",
     "output_type": "stream",
     "text": [
      "<class 'pandas.core.frame.DataFrame'>\n",
      "RangeIndex: 891 entries, 0 to 890\n",
      "Data columns (total 12 columns):\n",
      " #   Column       Non-Null Count  Dtype  \n",
      "---  ------       --------------  -----  \n",
      " 0   PassengerId  891 non-null    int64  \n",
      " 1   Survived     891 non-null    int64  \n",
      " 2   Pclass       891 non-null    int64  \n",
      " 3   Name         891 non-null    object \n",
      " 4   Sex          891 non-null    object \n",
      " 5   Age          714 non-null    float64\n",
      " 6   SibSp        891 non-null    int64  \n",
      " 7   Parch        891 non-null    int64  \n",
      " 8   Ticket       891 non-null    object \n",
      " 9   Fare         891 non-null    float64\n",
      " 10  Cabin        204 non-null    object \n",
      " 11  Embarked     889 non-null    object \n",
      "dtypes: float64(2), int64(5), object(5)\n",
      "memory usage: 83.7+ KB\n"
     ]
    }
   ],
   "source": [
    "data.info()"
   ]
  },
  {
   "cell_type": "markdown",
   "id": "comprehensive-princess",
   "metadata": {},
   "source": [
    "##### 2. Is there a column with a large proportion of null values? What percentage of that column has null values? [Round](https://www.w3schools.com/python/ref_func_round.asp) down to the nearest full percent. Set you value to a variable `percentage`."
   ]
  },
  {
   "cell_type": "markdown",
   "id": "through-arrangement",
   "metadata": {},
   "source": [
    "Looking at Null values is important because it can indicate whether that column has any importance in the dataset. When the vast majority of values are null that indicates it may not be important OR should not taken into account in the analytics process."
   ]
  },
  {
   "cell_type": "code",
   "execution_count": 7,
   "id": "related-knowing",
   "metadata": {},
   "outputs": [
    {
     "name": "stdout",
     "output_type": "stream",
     "text": [
      "Percentage of Cabin column values that are null: 77%\n"
     ]
    }
   ],
   "source": [
    "cabin_nulls = 891 - 204\n",
    "percentage = round((cabin_nulls / 891) * 100)\n",
    "print(\"Percentage of Cabin column values that are null: %s%%\" % percentage)"
   ]
  },
  {
   "cell_type": "code",
   "execution_count": 8,
   "id": "convinced-resolution",
   "metadata": {},
   "outputs": [],
   "source": [
    "assert percentage == 77"
   ]
  },
  {
   "cell_type": "markdown",
   "id": "floppy-affiliate",
   "metadata": {},
   "source": [
    "##### 3. Look at a summary of descriptive statistics which include count, mean, std, min, 25%, 50%, 75%, and max. (Hint look at the [describe](https://pandas.pydata.org/docs/reference/api/pandas.DataFrame.describe.html) function)"
   ]
  },
  {
   "cell_type": "markdown",
   "id": "impossible-still",
   "metadata": {},
   "source": [
    "Instructor Note: This is key for understanding the spread and variation of all numerical columns. Look at this data in conjunction with the data dictionary."
   ]
  },
  {
   "cell_type": "code",
   "execution_count": 9,
   "id": "failing-geology",
   "metadata": {},
   "outputs": [
    {
     "data": {
      "text/html": [
       "<div>\n",
       "<style scoped>\n",
       "    .dataframe tbody tr th:only-of-type {\n",
       "        vertical-align: middle;\n",
       "    }\n",
       "\n",
       "    .dataframe tbody tr th {\n",
       "        vertical-align: top;\n",
       "    }\n",
       "\n",
       "    .dataframe thead th {\n",
       "        text-align: right;\n",
       "    }\n",
       "</style>\n",
       "<table border=\"1\" class=\"dataframe\">\n",
       "  <thead>\n",
       "    <tr style=\"text-align: right;\">\n",
       "      <th></th>\n",
       "      <th>PassengerId</th>\n",
       "      <th>Survived</th>\n",
       "      <th>Pclass</th>\n",
       "      <th>Age</th>\n",
       "      <th>SibSp</th>\n",
       "      <th>Parch</th>\n",
       "      <th>Fare</th>\n",
       "    </tr>\n",
       "  </thead>\n",
       "  <tbody>\n",
       "    <tr>\n",
       "      <th>count</th>\n",
       "      <td>891.000000</td>\n",
       "      <td>891.000000</td>\n",
       "      <td>891.000000</td>\n",
       "      <td>714.000000</td>\n",
       "      <td>891.000000</td>\n",
       "      <td>891.000000</td>\n",
       "      <td>891.000000</td>\n",
       "    </tr>\n",
       "    <tr>\n",
       "      <th>mean</th>\n",
       "      <td>446.000000</td>\n",
       "      <td>0.383838</td>\n",
       "      <td>2.308642</td>\n",
       "      <td>29.699118</td>\n",
       "      <td>0.523008</td>\n",
       "      <td>0.381594</td>\n",
       "      <td>32.204208</td>\n",
       "    </tr>\n",
       "    <tr>\n",
       "      <th>std</th>\n",
       "      <td>257.353842</td>\n",
       "      <td>0.486592</td>\n",
       "      <td>0.836071</td>\n",
       "      <td>14.526497</td>\n",
       "      <td>1.102743</td>\n",
       "      <td>0.806057</td>\n",
       "      <td>49.693429</td>\n",
       "    </tr>\n",
       "    <tr>\n",
       "      <th>min</th>\n",
       "      <td>1.000000</td>\n",
       "      <td>0.000000</td>\n",
       "      <td>1.000000</td>\n",
       "      <td>0.420000</td>\n",
       "      <td>0.000000</td>\n",
       "      <td>0.000000</td>\n",
       "      <td>0.000000</td>\n",
       "    </tr>\n",
       "    <tr>\n",
       "      <th>25%</th>\n",
       "      <td>223.500000</td>\n",
       "      <td>0.000000</td>\n",
       "      <td>2.000000</td>\n",
       "      <td>20.125000</td>\n",
       "      <td>0.000000</td>\n",
       "      <td>0.000000</td>\n",
       "      <td>7.910400</td>\n",
       "    </tr>\n",
       "    <tr>\n",
       "      <th>50%</th>\n",
       "      <td>446.000000</td>\n",
       "      <td>0.000000</td>\n",
       "      <td>3.000000</td>\n",
       "      <td>28.000000</td>\n",
       "      <td>0.000000</td>\n",
       "      <td>0.000000</td>\n",
       "      <td>14.454200</td>\n",
       "    </tr>\n",
       "    <tr>\n",
       "      <th>75%</th>\n",
       "      <td>668.500000</td>\n",
       "      <td>1.000000</td>\n",
       "      <td>3.000000</td>\n",
       "      <td>38.000000</td>\n",
       "      <td>1.000000</td>\n",
       "      <td>0.000000</td>\n",
       "      <td>31.000000</td>\n",
       "    </tr>\n",
       "    <tr>\n",
       "      <th>max</th>\n",
       "      <td>891.000000</td>\n",
       "      <td>1.000000</td>\n",
       "      <td>3.000000</td>\n",
       "      <td>80.000000</td>\n",
       "      <td>8.000000</td>\n",
       "      <td>6.000000</td>\n",
       "      <td>512.329200</td>\n",
       "    </tr>\n",
       "  </tbody>\n",
       "</table>\n",
       "</div>"
      ],
      "text/plain": [
       "       PassengerId    Survived      Pclass         Age       SibSp  \\\n",
       "count   891.000000  891.000000  891.000000  714.000000  891.000000   \n",
       "mean    446.000000    0.383838    2.308642   29.699118    0.523008   \n",
       "std     257.353842    0.486592    0.836071   14.526497    1.102743   \n",
       "min       1.000000    0.000000    1.000000    0.420000    0.000000   \n",
       "25%     223.500000    0.000000    2.000000   20.125000    0.000000   \n",
       "50%     446.000000    0.000000    3.000000   28.000000    0.000000   \n",
       "75%     668.500000    1.000000    3.000000   38.000000    1.000000   \n",
       "max     891.000000    1.000000    3.000000   80.000000    8.000000   \n",
       "\n",
       "            Parch        Fare  \n",
       "count  891.000000  891.000000  \n",
       "mean     0.381594   32.204208  \n",
       "std      0.806057   49.693429  \n",
       "min      0.000000    0.000000  \n",
       "25%      0.000000    7.910400  \n",
       "50%      0.000000   14.454200  \n",
       "75%      0.000000   31.000000  \n",
       "max      6.000000  512.329200  "
      ]
     },
     "execution_count": 9,
     "metadata": {},
     "output_type": "execute_result"
    }
   ],
   "source": [
    "data.describe()"
   ]
  },
  {
   "cell_type": "markdown",
   "id": "critical-capture",
   "metadata": {},
   "source": [
    "##### 4. Are there any interesting observations from these descriptive statistics? Are there any columns missing from the dataset that are not in the descriptive statistics? Why?"
   ]
  },
  {
   "cell_type": "markdown",
   "id": "modular-newspaper",
   "metadata": {},
   "source": [
    "- PassengerId is a unique identifier and should not contribute to whether a passenger survived.\n",
    "- 38% of passengers survived.\n",
    "- The majority of passengers traveled in pclass = 3 (third class, lowest class)\n",
    "- 75% of passengers are 38 or youngers of which 50% are 28 or younger\n",
    "- SibSp and Parch both show a very large spread. The vast majoirty of passengers do not have a sibling or spouse and a parent or child on board.\n",
    "- There is a large spread in the fare which could correlate with the class of the passenger."
   ]
  },
  {
   "cell_type": "markdown",
   "id": "humanitarian-fiber",
   "metadata": {},
   "source": [
    "##### 5. Look at a summary of descriptive statistics for just male passengers."
   ]
  },
  {
   "cell_type": "code",
   "execution_count": 10,
   "id": "recognized-analysis",
   "metadata": {},
   "outputs": [
    {
     "data": {
      "text/html": [
       "<div>\n",
       "<style scoped>\n",
       "    .dataframe tbody tr th:only-of-type {\n",
       "        vertical-align: middle;\n",
       "    }\n",
       "\n",
       "    .dataframe tbody tr th {\n",
       "        vertical-align: top;\n",
       "    }\n",
       "\n",
       "    .dataframe thead th {\n",
       "        text-align: right;\n",
       "    }\n",
       "</style>\n",
       "<table border=\"1\" class=\"dataframe\">\n",
       "  <thead>\n",
       "    <tr style=\"text-align: right;\">\n",
       "      <th></th>\n",
       "      <th>PassengerId</th>\n",
       "      <th>Survived</th>\n",
       "      <th>Pclass</th>\n",
       "      <th>Age</th>\n",
       "      <th>SibSp</th>\n",
       "      <th>Parch</th>\n",
       "      <th>Fare</th>\n",
       "    </tr>\n",
       "  </thead>\n",
       "  <tbody>\n",
       "    <tr>\n",
       "      <th>count</th>\n",
       "      <td>577.000000</td>\n",
       "      <td>577.000000</td>\n",
       "      <td>577.000000</td>\n",
       "      <td>453.000000</td>\n",
       "      <td>577.000000</td>\n",
       "      <td>577.000000</td>\n",
       "      <td>577.000000</td>\n",
       "    </tr>\n",
       "    <tr>\n",
       "      <th>mean</th>\n",
       "      <td>454.147314</td>\n",
       "      <td>0.188908</td>\n",
       "      <td>2.389948</td>\n",
       "      <td>30.726645</td>\n",
       "      <td>0.429809</td>\n",
       "      <td>0.235702</td>\n",
       "      <td>25.523893</td>\n",
       "    </tr>\n",
       "    <tr>\n",
       "      <th>std</th>\n",
       "      <td>257.486139</td>\n",
       "      <td>0.391775</td>\n",
       "      <td>0.813580</td>\n",
       "      <td>14.678201</td>\n",
       "      <td>1.061811</td>\n",
       "      <td>0.612294</td>\n",
       "      <td>43.138263</td>\n",
       "    </tr>\n",
       "    <tr>\n",
       "      <th>min</th>\n",
       "      <td>1.000000</td>\n",
       "      <td>0.000000</td>\n",
       "      <td>1.000000</td>\n",
       "      <td>0.420000</td>\n",
       "      <td>0.000000</td>\n",
       "      <td>0.000000</td>\n",
       "      <td>0.000000</td>\n",
       "    </tr>\n",
       "    <tr>\n",
       "      <th>25%</th>\n",
       "      <td>222.000000</td>\n",
       "      <td>0.000000</td>\n",
       "      <td>2.000000</td>\n",
       "      <td>21.000000</td>\n",
       "      <td>0.000000</td>\n",
       "      <td>0.000000</td>\n",
       "      <td>7.895800</td>\n",
       "    </tr>\n",
       "    <tr>\n",
       "      <th>50%</th>\n",
       "      <td>464.000000</td>\n",
       "      <td>0.000000</td>\n",
       "      <td>3.000000</td>\n",
       "      <td>29.000000</td>\n",
       "      <td>0.000000</td>\n",
       "      <td>0.000000</td>\n",
       "      <td>10.500000</td>\n",
       "    </tr>\n",
       "    <tr>\n",
       "      <th>75%</th>\n",
       "      <td>680.000000</td>\n",
       "      <td>0.000000</td>\n",
       "      <td>3.000000</td>\n",
       "      <td>39.000000</td>\n",
       "      <td>0.000000</td>\n",
       "      <td>0.000000</td>\n",
       "      <td>26.550000</td>\n",
       "    </tr>\n",
       "    <tr>\n",
       "      <th>max</th>\n",
       "      <td>891.000000</td>\n",
       "      <td>1.000000</td>\n",
       "      <td>3.000000</td>\n",
       "      <td>80.000000</td>\n",
       "      <td>8.000000</td>\n",
       "      <td>5.000000</td>\n",
       "      <td>512.329200</td>\n",
       "    </tr>\n",
       "  </tbody>\n",
       "</table>\n",
       "</div>"
      ],
      "text/plain": [
       "       PassengerId    Survived      Pclass         Age       SibSp  \\\n",
       "count   577.000000  577.000000  577.000000  453.000000  577.000000   \n",
       "mean    454.147314    0.188908    2.389948   30.726645    0.429809   \n",
       "std     257.486139    0.391775    0.813580   14.678201    1.061811   \n",
       "min       1.000000    0.000000    1.000000    0.420000    0.000000   \n",
       "25%     222.000000    0.000000    2.000000   21.000000    0.000000   \n",
       "50%     464.000000    0.000000    3.000000   29.000000    0.000000   \n",
       "75%     680.000000    0.000000    3.000000   39.000000    0.000000   \n",
       "max     891.000000    1.000000    3.000000   80.000000    8.000000   \n",
       "\n",
       "            Parch        Fare  \n",
       "count  577.000000  577.000000  \n",
       "mean     0.235702   25.523893  \n",
       "std      0.612294   43.138263  \n",
       "min      0.000000    0.000000  \n",
       "25%      0.000000    7.895800  \n",
       "50%      0.000000   10.500000  \n",
       "75%      0.000000   26.550000  \n",
       "max      5.000000  512.329200  "
      ]
     },
     "execution_count": 10,
     "metadata": {},
     "output_type": "execute_result"
    }
   ],
   "source": [
    "query = \"\"\"\n",
    "select *\n",
    "from data\n",
    "where Sex = 'male'\n",
    "\"\"\"\n",
    "male_data = psql.sqldf(query)\n",
    "male_data.describe()"
   ]
  },
  {
   "cell_type": "markdown",
   "id": "married-grill",
   "metadata": {},
   "source": [
    "## Data Exploration"
   ]
  },
  {
   "cell_type": "markdown",
   "id": "armed-imperial",
   "metadata": {},
   "source": [
    "##### 1. Create a dataframe for the number of unique values for each column using SQL syntax. Set it to a variable `unique_columns`."
   ]
  },
  {
   "cell_type": "markdown",
   "id": "daily-royal",
   "metadata": {},
   "source": [
    "Instructor Note: This shows the number of distinct values. Sometimes it helps to reduce the variability by binning variables together. This can help narrow down columns that may be worth doing that for."
   ]
  },
  {
   "cell_type": "code",
   "execution_count": 27,
   "id": "specific-import",
   "metadata": {},
   "outputs": [
    {
     "data": {
      "text/html": [
       "<div>\n",
       "<style scoped>\n",
       "    .dataframe tbody tr th:only-of-type {\n",
       "        vertical-align: middle;\n",
       "    }\n",
       "\n",
       "    .dataframe tbody tr th {\n",
       "        vertical-align: top;\n",
       "    }\n",
       "\n",
       "    .dataframe thead th {\n",
       "        text-align: right;\n",
       "    }\n",
       "</style>\n",
       "<table border=\"1\" class=\"dataframe\">\n",
       "  <thead>\n",
       "    <tr style=\"text-align: right;\">\n",
       "      <th></th>\n",
       "      <th>Count_PassengerId</th>\n",
       "      <th>Count_Survived</th>\n",
       "      <th>Count_Pclass</th>\n",
       "      <th>Count_Name</th>\n",
       "      <th>Count_Sex</th>\n",
       "      <th>Count_Age</th>\n",
       "      <th>Count_SibSp</th>\n",
       "      <th>Count_Parch</th>\n",
       "      <th>Count_Ticket</th>\n",
       "      <th>Count_Fare</th>\n",
       "      <th>Count_Cabin</th>\n",
       "      <th>Count_Embarked</th>\n",
       "    </tr>\n",
       "  </thead>\n",
       "  <tbody>\n",
       "    <tr>\n",
       "      <th>0</th>\n",
       "      <td>891</td>\n",
       "      <td>2</td>\n",
       "      <td>3</td>\n",
       "      <td>891</td>\n",
       "      <td>2</td>\n",
       "      <td>88</td>\n",
       "      <td>7</td>\n",
       "      <td>7</td>\n",
       "      <td>681</td>\n",
       "      <td>248</td>\n",
       "      <td>147</td>\n",
       "      <td>3</td>\n",
       "    </tr>\n",
       "  </tbody>\n",
       "</table>\n",
       "</div>"
      ],
      "text/plain": [
       "   Count_PassengerId  Count_Survived  Count_Pclass  Count_Name  Count_Sex  \\\n",
       "0                891               2             3         891          2   \n",
       "\n",
       "   Count_Age  Count_SibSp  Count_Parch  Count_Ticket  Count_Fare  Count_Cabin  \\\n",
       "0         88            7            7           681         248          147   \n",
       "\n",
       "   Count_Embarked  \n",
       "0               3  "
      ]
     },
     "execution_count": 27,
     "metadata": {},
     "output_type": "execute_result"
    }
   ],
   "source": [
    "query = \"\"\"\n",
    "select \n",
    "    count(distinct PassengerId) as Count_PassengerId,\n",
    "    count(distinct Survived) as Count_Survived,\n",
    "    count(distinct Pclass) as Count_Pclass,\n",
    "    count(distinct Name) as Count_Name, \n",
    "    count(distinct Sex) as Count_Sex,\n",
    "    count(distinct Age) as Count_Age,\n",
    "    count(distinct SibSp) as Count_SibSp,\n",
    "    count(distinct Parch) as Count_Parch,\n",
    "    count(distinct Ticket) as Count_Ticket,\n",
    "    count(distinct Fare) as Count_Fare,\n",
    "    count(distinct Cabin) as Count_Cabin,\n",
    "    count(distinct Embarked) as Count_Embarked\n",
    "from data\n",
    "\"\"\"\n",
    "unique_columns = psql.sqldf(query)\n",
    "unique_columns"
   ]
  },
  {
   "cell_type": "code",
   "execution_count": 28,
   "id": "turkish-asthma",
   "metadata": {},
   "outputs": [],
   "source": [
    "assert list(unique_columns['Count_PassengerId'])[0] == 891\n",
    "assert list(unique_columns['Count_Survived'])[0] == 2\n",
    "assert list(unique_columns['Count_Pclass'])[0] == 3\n",
    "assert list(unique_columns['Count_Name'])[0] == 891\n",
    "assert list(unique_columns['Count_Sex'])[0] == 2\n",
    "assert list(unique_columns['Count_Age'])[0] == 88\n",
    "assert list(unique_columns['Count_SibSp'])[0] == 7\n",
    "assert list(unique_columns['Count_Parch'])[0] == 7\n",
    "assert list(unique_columns['Count_Ticket'])[0] == 681\n",
    "assert list(unique_columns['Count_Fare'])[0] == 248\n",
    "assert list(unique_columns['Count_Cabin'])[0] == 147\n",
    "assert list(unique_columns['Count_Embarked'])[0] == 3"
   ]
  },
  {
   "cell_type": "markdown",
   "id": "narrative-bolivia",
   "metadata": {},
   "source": [
    "##### 2. Do these unique values confirm any of your observations from the descriptive statistics in the section above?"
   ]
  },
  {
   "cell_type": "markdown",
   "id": "opening-maine",
   "metadata": {},
   "source": [
    "Its is clear the PassengerId is a unique identifier that uniquely labels the row but does not contribute to prediction. In addition, Name and Ticket also seem to be representative of the record due to their high degree of uniqueness."
   ]
  },
  {
   "cell_type": "markdown",
   "id": "occupied-amplifier",
   "metadata": {},
   "source": [
    "##### 3. How many of the passengers are male? How many are female? Create a single dataframe using SQL syntax and set it to a variable `gender_breakdown`."
   ]
  },
  {
   "cell_type": "code",
   "execution_count": 29,
   "id": "photographic-title",
   "metadata": {},
   "outputs": [
    {
     "data": {
      "text/html": [
       "<div>\n",
       "<style scoped>\n",
       "    .dataframe tbody tr th:only-of-type {\n",
       "        vertical-align: middle;\n",
       "    }\n",
       "\n",
       "    .dataframe tbody tr th {\n",
       "        vertical-align: top;\n",
       "    }\n",
       "\n",
       "    .dataframe thead th {\n",
       "        text-align: right;\n",
       "    }\n",
       "</style>\n",
       "<table border=\"1\" class=\"dataframe\">\n",
       "  <thead>\n",
       "    <tr style=\"text-align: right;\">\n",
       "      <th></th>\n",
       "      <th>Sex</th>\n",
       "      <th>Count_PassengerId</th>\n",
       "    </tr>\n",
       "  </thead>\n",
       "  <tbody>\n",
       "    <tr>\n",
       "      <th>0</th>\n",
       "      <td>female</td>\n",
       "      <td>314</td>\n",
       "    </tr>\n",
       "    <tr>\n",
       "      <th>1</th>\n",
       "      <td>male</td>\n",
       "      <td>577</td>\n",
       "    </tr>\n",
       "  </tbody>\n",
       "</table>\n",
       "</div>"
      ],
      "text/plain": [
       "      Sex  Count_PassengerId\n",
       "0  female                314\n",
       "1    male                577"
      ]
     },
     "execution_count": 29,
     "metadata": {},
     "output_type": "execute_result"
    }
   ],
   "source": [
    "query = \"\"\"\n",
    "select\n",
    "    Sex,\n",
    "    count(distinct PassengerId) as Count_PassengerId\n",
    "from data\n",
    "group by Sex\n",
    "\"\"\"\n",
    "gender_breakdown = psql.sqldf(query)\n",
    "gender_breakdown"
   ]
  },
  {
   "cell_type": "code",
   "execution_count": 30,
   "id": "eastern-cleveland",
   "metadata": {},
   "outputs": [],
   "source": [
    "assert list(gender_breakdown.loc[gender_breakdown['Sex'] == 'female']['Count_PassengerId'])[0] == 314\n",
    "assert list(gender_breakdown.loc[gender_breakdown['Sex'] == 'male']['Count_PassengerId'])[0] == 577"
   ]
  },
  {
   "cell_type": "markdown",
   "id": "educational-roberts",
   "metadata": {},
   "source": [
    "##### 4. How many male passengers survived? How many female passengers survived? Create a single dataframe that answers both questions and set it to a variable `gender_survival`."
   ]
  },
  {
   "cell_type": "code",
   "execution_count": 31,
   "id": "enormous-lesson",
   "metadata": {},
   "outputs": [
    {
     "data": {
      "text/html": [
       "<div>\n",
       "<style scoped>\n",
       "    .dataframe tbody tr th:only-of-type {\n",
       "        vertical-align: middle;\n",
       "    }\n",
       "\n",
       "    .dataframe tbody tr th {\n",
       "        vertical-align: top;\n",
       "    }\n",
       "\n",
       "    .dataframe thead th {\n",
       "        text-align: right;\n",
       "    }\n",
       "</style>\n",
       "<table border=\"1\" class=\"dataframe\">\n",
       "  <thead>\n",
       "    <tr style=\"text-align: right;\">\n",
       "      <th></th>\n",
       "      <th>Sex</th>\n",
       "      <th>Survived</th>\n",
       "      <th>Count_PassengerId</th>\n",
       "    </tr>\n",
       "  </thead>\n",
       "  <tbody>\n",
       "    <tr>\n",
       "      <th>0</th>\n",
       "      <td>female</td>\n",
       "      <td>0</td>\n",
       "      <td>81</td>\n",
       "    </tr>\n",
       "    <tr>\n",
       "      <th>1</th>\n",
       "      <td>female</td>\n",
       "      <td>1</td>\n",
       "      <td>233</td>\n",
       "    </tr>\n",
       "    <tr>\n",
       "      <th>2</th>\n",
       "      <td>male</td>\n",
       "      <td>0</td>\n",
       "      <td>468</td>\n",
       "    </tr>\n",
       "    <tr>\n",
       "      <th>3</th>\n",
       "      <td>male</td>\n",
       "      <td>1</td>\n",
       "      <td>109</td>\n",
       "    </tr>\n",
       "  </tbody>\n",
       "</table>\n",
       "</div>"
      ],
      "text/plain": [
       "      Sex  Survived  Count_PassengerId\n",
       "0  female         0                 81\n",
       "1  female         1                233\n",
       "2    male         0                468\n",
       "3    male         1                109"
      ]
     },
     "execution_count": 31,
     "metadata": {},
     "output_type": "execute_result"
    }
   ],
   "source": [
    "query = \"\"\"\n",
    "select\n",
    "    Sex,\n",
    "    Survived,\n",
    "    count(distinct PassengerId) as Count_PassengerId\n",
    "from data\n",
    "group by Sex, Survived\n",
    "\"\"\"\n",
    "gender_survival = psql.sqldf(query)\n",
    "gender_survival"
   ]
  },
  {
   "cell_type": "code",
   "execution_count": 32,
   "id": "economic-number",
   "metadata": {
    "scrolled": true
   },
   "outputs": [],
   "source": [
    "female_dead = sorted(list(gender_survival.loc[(gender_survival['Sex'] == 'female')]['Count_PassengerId']))[0]\n",
    "female_survived = sorted(list(gender_survival.loc[(gender_survival['Sex'] == 'female')]['Count_PassengerId']))[1]\n",
    "male_dead = sorted(list(gender_survival.loc[(gender_survival['Sex'] == 'male')]['Count_PassengerId']))[1]\n",
    "male_survived = sorted(list(gender_survival.loc[(gender_survival['Sex'] == 'male')]['Count_PassengerId']))[0]\n",
    "\n",
    "assert female_dead == 81\n",
    "assert female_survived == 233\n",
    "assert male_dead == 468\n",
    "assert male_survived == 109"
   ]
  },
  {
   "cell_type": "markdown",
   "id": "suburban-roommate",
   "metadata": {},
   "source": [
    "##### 5. Create a [bar graph](https://seaborn.pydata.org/generated/seaborn.barplot.html) to show the gender survival breakdown calculated above. Feel free to play with the color schemes and other customizable options."
   ]
  },
  {
   "cell_type": "code",
   "execution_count": 33,
   "id": "adequate-portuguese",
   "metadata": {},
   "outputs": [
    {
     "data": {
      "image/png": "[encoded data removed]",
      "text/plain": [
       "<Figure size 720x432 with 1 Axes>"
      ]
     },
     "metadata": {},
     "output_type": "display_data"
    }
   ],
   "source": [
    "plot = sns.barplot(x = 'Sex', y = 'Count_PassengerId', hue = 'Survived', data = gender_survival, order = ['male', 'female'])"
   ]
  },
  {
   "cell_type": "markdown",
   "id": "vertical-graphics",
   "metadata": {},
   "source": [
    "##### 6. Add a column called `age_group` to `data` that breaks down the passenger ages according to the rules below. Set this new dataframe to a variable `data_with_age_grouping`.\n",
    "- when Age is null then 'unknown'\n",
    "- when Age < 1 then 'under 1'\n",
    "- when Age < 5 then 'under 5'\n",
    "- when Age < 18 then 'under 18'\n",
    "- when Age < 24 then 'under 24'\n",
    "- when Age < 44 then 'under 44'\n",
    "- when Age < 65 then 'under 65'\n",
    "- when Age >= 65 then 'over 65'"
   ]
  },
  {
   "cell_type": "code",
   "execution_count": 34,
   "id": "after-composite",
   "metadata": {},
   "outputs": [
    {
     "data": {
      "text/html": [
       "<div>\n",
       "<style scoped>\n",
       "    .dataframe tbody tr th:only-of-type {\n",
       "        vertical-align: middle;\n",
       "    }\n",
       "\n",
       "    .dataframe tbody tr th {\n",
       "        vertical-align: top;\n",
       "    }\n",
       "\n",
       "    .dataframe thead th {\n",
       "        text-align: right;\n",
       "    }\n",
       "</style>\n",
       "<table border=\"1\" class=\"dataframe\">\n",
       "  <thead>\n",
       "    <tr style=\"text-align: right;\">\n",
       "      <th></th>\n",
       "      <th>PassengerId</th>\n",
       "      <th>Survived</th>\n",
       "      <th>Pclass</th>\n",
       "      <th>Name</th>\n",
       "      <th>Sex</th>\n",
       "      <th>Age</th>\n",
       "      <th>SibSp</th>\n",
       "      <th>Parch</th>\n",
       "      <th>Ticket</th>\n",
       "      <th>Fare</th>\n",
       "      <th>Cabin</th>\n",
       "      <th>Embarked</th>\n",
       "      <th>age_group</th>\n",
       "    </tr>\n",
       "  </thead>\n",
       "  <tbody>\n",
       "    <tr>\n",
       "      <th>0</th>\n",
       "      <td>1</td>\n",
       "      <td>0</td>\n",
       "      <td>3</td>\n",
       "      <td>Braund, Mr. Owen Harris</td>\n",
       "      <td>male</td>\n",
       "      <td>22.0</td>\n",
       "      <td>1</td>\n",
       "      <td>0</td>\n",
       "      <td>A/5 21171</td>\n",
       "      <td>7.2500</td>\n",
       "      <td>None</td>\n",
       "      <td>S</td>\n",
       "      <td>under 24</td>\n",
       "    </tr>\n",
       "    <tr>\n",
       "      <th>1</th>\n",
       "      <td>2</td>\n",
       "      <td>1</td>\n",
       "      <td>1</td>\n",
       "      <td>Cumings, Mrs. John Bradley (Florence Briggs Th...</td>\n",
       "      <td>female</td>\n",
       "      <td>38.0</td>\n",
       "      <td>1</td>\n",
       "      <td>0</td>\n",
       "      <td>PC 17599</td>\n",
       "      <td>71.2833</td>\n",
       "      <td>C85</td>\n",
       "      <td>C</td>\n",
       "      <td>under 44</td>\n",
       "    </tr>\n",
       "    <tr>\n",
       "      <th>2</th>\n",
       "      <td>3</td>\n",
       "      <td>1</td>\n",
       "      <td>3</td>\n",
       "      <td>Heikkinen, Miss. Laina</td>\n",
       "      <td>female</td>\n",
       "      <td>26.0</td>\n",
       "      <td>0</td>\n",
       "      <td>0</td>\n",
       "      <td>STON/O2. 3101282</td>\n",
       "      <td>7.9250</td>\n",
       "      <td>None</td>\n",
       "      <td>S</td>\n",
       "      <td>under 44</td>\n",
       "    </tr>\n",
       "    <tr>\n",
       "      <th>3</th>\n",
       "      <td>4</td>\n",
       "      <td>1</td>\n",
       "      <td>1</td>\n",
       "      <td>Futrelle, Mrs. Jacques Heath (Lily May Peel)</td>\n",
       "      <td>female</td>\n",
       "      <td>35.0</td>\n",
       "      <td>1</td>\n",
       "      <td>0</td>\n",
       "      <td>113803</td>\n",
       "      <td>53.1000</td>\n",
       "      <td>C123</td>\n",
       "      <td>S</td>\n",
       "      <td>under 44</td>\n",
       "    </tr>\n",
       "    <tr>\n",
       "      <th>4</th>\n",
       "      <td>5</td>\n",
       "      <td>0</td>\n",
       "      <td>3</td>\n",
       "      <td>Allen, Mr. William Henry</td>\n",
       "      <td>male</td>\n",
       "      <td>35.0</td>\n",
       "      <td>0</td>\n",
       "      <td>0</td>\n",
       "      <td>373450</td>\n",
       "      <td>8.0500</td>\n",
       "      <td>None</td>\n",
       "      <td>S</td>\n",
       "      <td>under 44</td>\n",
       "    </tr>\n",
       "  </tbody>\n",
       "</table>\n",
       "</div>"
      ],
      "text/plain": [
       "   PassengerId  Survived  Pclass  \\\n",
       "0            1         0       3   \n",
       "1            2         1       1   \n",
       "2            3         1       3   \n",
       "3            4         1       1   \n",
       "4            5         0       3   \n",
       "\n",
       "                                                Name     Sex   Age  SibSp  \\\n",
       "0                            Braund, Mr. Owen Harris    male  22.0      1   \n",
       "1  Cumings, Mrs. John Bradley (Florence Briggs Th...  female  38.0      1   \n",
       "2                             Heikkinen, Miss. Laina  female  26.0      0   \n",
       "3       Futrelle, Mrs. Jacques Heath (Lily May Peel)  female  35.0      1   \n",
       "4                           Allen, Mr. William Henry    male  35.0      0   \n",
       "\n",
       "   Parch            Ticket     Fare Cabin Embarked age_group  \n",
       "0      0         A/5 21171   7.2500  None        S  under 24  \n",
       "1      0          PC 17599  71.2833   C85        C  under 44  \n",
       "2      0  STON/O2. 3101282   7.9250  None        S  under 44  \n",
       "3      0            113803  53.1000  C123        S  under 44  \n",
       "4      0            373450   8.0500  None        S  under 44  "
      ]
     },
     "execution_count": 34,
     "metadata": {},
     "output_type": "execute_result"
    }
   ],
   "source": [
    "query = \"\"\"\n",
    "select\n",
    "    *,\n",
    "    case\n",
    "      when Age is null then 'unknown'\n",
    "      when Age < 1 then 'under 1'\n",
    "      when Age < 5 then 'under 5'\n",
    "      when Age < 18 then 'under 18'\n",
    "      when Age < 24 then 'under 24'\n",
    "      when Age < 44 then 'under 44'\n",
    "      when Age < 65 then 'under 65'\n",
    "      else 'over 65'\n",
    "    end as age_group\n",
    "from data\n",
    "\"\"\"\n",
    "data_with_age_grouping = psql.sqldf(query)\n",
    "data_with_age_grouping.head()"
   ]
  },
  {
   "cell_type": "code",
   "execution_count": 35,
   "id": "split-rendering",
   "metadata": {},
   "outputs": [],
   "source": [
    "passenger_6 = list(data_with_age_grouping.loc[data_with_age_grouping['PassengerId'] == 6]['age_group'])[0]\n",
    "passenger_832 = list(data_with_age_grouping.loc[data_with_age_grouping['PassengerId'] == 832]['age_group'])[0]\n",
    "passenger_828 = list(data_with_age_grouping.loc[data_with_age_grouping['PassengerId'] == 828]['age_group'])[0]\n",
    "passenger_831 = list(data_with_age_grouping.loc[data_with_age_grouping['PassengerId'] == 831]['age_group'])[0]\n",
    "passenger_834 = list(data_with_age_grouping.loc[data_with_age_grouping['PassengerId'] == 834]['age_group'])[0]\n",
    "passenger_823 = list(data_with_age_grouping.loc[data_with_age_grouping['PassengerId'] == 823]['age_group'])[0]\n",
    "passenger_821 = list(data_with_age_grouping.loc[data_with_age_grouping['PassengerId'] == 821]['age_group'])[0]\n",
    "passenger_631 = list(data_with_age_grouping.loc[data_with_age_grouping['PassengerId'] == 631]['age_group'])[0]\n",
    "\n",
    "assert passenger_6 == 'unknown'\n",
    "assert passenger_832 == 'under 1'\n",
    "assert passenger_828 == 'under 5'\n",
    "assert passenger_831 == 'under 18'\n",
    "assert passenger_834 == 'under 24'\n",
    "assert passenger_823 == 'under 44'\n",
    "assert passenger_821 == 'under 65'\n",
    "assert passenger_631 == 'over 65'"
   ]
  },
  {
   "cell_type": "markdown",
   "id": "genetic-brave",
   "metadata": {},
   "source": [
    "##### 7. Create a [plot](https://seaborn.pydata.org/generated/seaborn.countplot.html#seaborn.countplot) that visualizes the number of passengers in each respective age_group. Feel free to play with the color schemes and other customizable options."
   ]
  },
  {
   "cell_type": "code",
   "execution_count": 36,
   "id": "overall-hampton",
   "metadata": {},
   "outputs": [
    {
     "data": {
      "image/png": "[encoded data removed]",
      "text/plain": [
       "<Figure size 720x432 with 1 Axes>"
      ]
     },
     "metadata": {},
     "output_type": "display_data"
    }
   ],
   "source": [
    "sns.set_theme(style = 'darkgrid')\n",
    "sns.set(rc={'figure.figsize':(10,6)})\n",
    "g = sns.countplot(x = \"age_group\", data = data_with_age_grouping, order=('unknown','under 1', 'under 5', 'under 18', 'under 24', 'under 44', 'under 65', 'over 65'))"
   ]
  },
  {
   "cell_type": "markdown",
   "id": "temporal-tucson",
   "metadata": {},
   "source": [
    "##### 8. Create a dataframe that answers: Within each age_group how many passengers survived and died? What was their average fare? Set this dataframe to a variable `age_grouping_aggregation`."
   ]
  },
  {
   "cell_type": "code",
   "execution_count": 37,
   "id": "passive-handy",
   "metadata": {},
   "outputs": [
    {
     "data": {
      "text/html": [
       "<div>\n",
       "<style scoped>\n",
       "    .dataframe tbody tr th:only-of-type {\n",
       "        vertical-align: middle;\n",
       "    }\n",
       "\n",
       "    .dataframe tbody tr th {\n",
       "        vertical-align: top;\n",
       "    }\n",
       "\n",
       "    .dataframe thead th {\n",
       "        text-align: right;\n",
       "    }\n",
       "</style>\n",
       "<table border=\"1\" class=\"dataframe\">\n",
       "  <thead>\n",
       "    <tr style=\"text-align: right;\">\n",
       "      <th></th>\n",
       "      <th>age_group</th>\n",
       "      <th>Survived</th>\n",
       "      <th>Count_PassengerId</th>\n",
       "      <th>Average_Fare</th>\n",
       "    </tr>\n",
       "  </thead>\n",
       "  <tbody>\n",
       "    <tr>\n",
       "      <th>0</th>\n",
       "      <td>over 65</td>\n",
       "      <td>0</td>\n",
       "      <td>10</td>\n",
       "      <td>28.796260</td>\n",
       "    </tr>\n",
       "    <tr>\n",
       "      <th>1</th>\n",
       "      <td>over 65</td>\n",
       "      <td>1</td>\n",
       "      <td>1</td>\n",
       "      <td>30.000000</td>\n",
       "    </tr>\n",
       "    <tr>\n",
       "      <th>2</th>\n",
       "      <td>under 1</td>\n",
       "      <td>1</td>\n",
       "      <td>7</td>\n",
       "      <td>37.261900</td>\n",
       "    </tr>\n",
       "    <tr>\n",
       "      <th>3</th>\n",
       "      <td>under 18</td>\n",
       "      <td>0</td>\n",
       "      <td>39</td>\n",
       "      <td>22.938892</td>\n",
       "    </tr>\n",
       "    <tr>\n",
       "      <th>4</th>\n",
       "      <td>under 18</td>\n",
       "      <td>1</td>\n",
       "      <td>34</td>\n",
       "      <td>39.322674</td>\n",
       "    </tr>\n",
       "    <tr>\n",
       "      <th>5</th>\n",
       "      <td>under 24</td>\n",
       "      <td>0</td>\n",
       "      <td>92</td>\n",
       "      <td>18.296646</td>\n",
       "    </tr>\n",
       "    <tr>\n",
       "      <th>6</th>\n",
       "      <td>under 24</td>\n",
       "      <td>1</td>\n",
       "      <td>42</td>\n",
       "      <td>51.501490</td>\n",
       "    </tr>\n",
       "    <tr>\n",
       "      <th>7</th>\n",
       "      <td>under 44</td>\n",
       "      <td>0</td>\n",
       "      <td>202</td>\n",
       "      <td>20.056164</td>\n",
       "    </tr>\n",
       "    <tr>\n",
       "      <th>8</th>\n",
       "      <td>under 44</td>\n",
       "      <td>1</td>\n",
       "      <td>141</td>\n",
       "      <td>57.124084</td>\n",
       "    </tr>\n",
       "    <tr>\n",
       "      <th>9</th>\n",
       "      <td>under 5</td>\n",
       "      <td>0</td>\n",
       "      <td>13</td>\n",
       "      <td>39.002885</td>\n",
       "    </tr>\n",
       "    <tr>\n",
       "      <th>10</th>\n",
       "      <td>under 5</td>\n",
       "      <td>1</td>\n",
       "      <td>20</td>\n",
       "      <td>26.424585</td>\n",
       "    </tr>\n",
       "    <tr>\n",
       "      <th>11</th>\n",
       "      <td>under 65</td>\n",
       "      <td>0</td>\n",
       "      <td>68</td>\n",
       "      <td>34.016176</td>\n",
       "    </tr>\n",
       "    <tr>\n",
       "      <th>12</th>\n",
       "      <td>under 65</td>\n",
       "      <td>1</td>\n",
       "      <td>45</td>\n",
       "      <td>59.126116</td>\n",
       "    </tr>\n",
       "    <tr>\n",
       "      <th>13</th>\n",
       "      <td>unknown</td>\n",
       "      <td>0</td>\n",
       "      <td>125</td>\n",
       "      <td>19.242931</td>\n",
       "    </tr>\n",
       "    <tr>\n",
       "      <th>14</th>\n",
       "      <td>unknown</td>\n",
       "      <td>1</td>\n",
       "      <td>52</td>\n",
       "      <td>29.167306</td>\n",
       "    </tr>\n",
       "  </tbody>\n",
       "</table>\n",
       "</div>"
      ],
      "text/plain": [
       "   age_group  Survived  Count_PassengerId  Average_Fare\n",
       "0    over 65         0                 10     28.796260\n",
       "1    over 65         1                  1     30.000000\n",
       "2    under 1         1                  7     37.261900\n",
       "3   under 18         0                 39     22.938892\n",
       "4   under 18         1                 34     39.322674\n",
       "5   under 24         0                 92     18.296646\n",
       "6   under 24         1                 42     51.501490\n",
       "7   under 44         0                202     20.056164\n",
       "8   under 44         1                141     57.124084\n",
       "9    under 5         0                 13     39.002885\n",
       "10   under 5         1                 20     26.424585\n",
       "11  under 65         0                 68     34.016176\n",
       "12  under 65         1                 45     59.126116\n",
       "13   unknown         0                125     19.242931\n",
       "14   unknown         1                 52     29.167306"
      ]
     },
     "execution_count": 37,
     "metadata": {},
     "output_type": "execute_result"
    }
   ],
   "source": [
    "query = \"\"\"\n",
    "select age_group, Survived, count(distinct PassengerId) as Count_PassengerId, avg(Fare) as Average_Fare\n",
    "from data_with_age_grouping\n",
    "group by 1, 2\n",
    "order by 1, 2\n",
    "\"\"\"\n",
    "age_grouping_aggregation = psql.sqldf(query)\n",
    "age_grouping_aggregation"
   ]
  },
  {
   "cell_type": "code",
   "execution_count": 38,
   "id": "silent-oxygen",
   "metadata": {},
   "outputs": [],
   "source": [
    "# We will test the results using a couple age groups\n",
    "under_18_passenger_counts = sorted(list(age_grouping_aggregation.loc[age_grouping_aggregation['age_group'] == 'under 18']['Count_PassengerId']))\n",
    "under_18_passenger_avg_fares = sorted(list(age_grouping_aggregation.loc[age_grouping_aggregation['age_group'] == 'under 18']['Average_Fare']))\n",
    "over_65_passenger_counts = sorted(list(age_grouping_aggregation.loc[age_grouping_aggregation['age_group'] == 'over 65']['Count_PassengerId']))\n",
    "\n",
    "assert under_18_passenger_counts == [34, 39]\n",
    "assert under_18_passenger_avg_fares == [22.938892307692306, 39.32267352941175]\n",
    "assert over_65_passenger_counts == [1, 10]"
   ]
  },
  {
   "cell_type": "markdown",
   "id": "alternative-particle",
   "metadata": {},
   "source": [
    "## Optional Challenge"
   ]
  },
  {
   "cell_type": "markdown",
   "id": "baking-person",
   "metadata": {},
   "source": [
    "##### Did the port (`Embarked` column) the passengers embarked from make a difference in their survival? Provide a percentage of passengers that survived from `Embarked` C."
   ]
  },
  {
   "cell_type": "code",
   "execution_count": 47,
   "id": "mathematical-value",
   "metadata": {},
   "outputs": [
    {
     "data": {
      "text/html": [
       "<div>\n",
       "<style scoped>\n",
       "    .dataframe tbody tr th:only-of-type {\n",
       "        vertical-align: middle;\n",
       "    }\n",
       "\n",
       "    .dataframe tbody tr th {\n",
       "        vertical-align: top;\n",
       "    }\n",
       "\n",
       "    .dataframe thead th {\n",
       "        text-align: right;\n",
       "    }\n",
       "</style>\n",
       "<table border=\"1\" class=\"dataframe\">\n",
       "  <thead>\n",
       "    <tr style=\"text-align: right;\">\n",
       "      <th></th>\n",
       "      <th>Embarked</th>\n",
       "      <th>Survived</th>\n",
       "      <th>Count_PassengerId</th>\n",
       "    </tr>\n",
       "  </thead>\n",
       "  <tbody>\n",
       "    <tr>\n",
       "      <th>0</th>\n",
       "      <td>C</td>\n",
       "      <td>0</td>\n",
       "      <td>75</td>\n",
       "    </tr>\n",
       "    <tr>\n",
       "      <th>1</th>\n",
       "      <td>C</td>\n",
       "      <td>1</td>\n",
       "      <td>93</td>\n",
       "    </tr>\n",
       "    <tr>\n",
       "      <th>2</th>\n",
       "      <td>Q</td>\n",
       "      <td>0</td>\n",
       "      <td>47</td>\n",
       "    </tr>\n",
       "    <tr>\n",
       "      <th>3</th>\n",
       "      <td>Q</td>\n",
       "      <td>1</td>\n",
       "      <td>30</td>\n",
       "    </tr>\n",
       "    <tr>\n",
       "      <th>4</th>\n",
       "      <td>S</td>\n",
       "      <td>0</td>\n",
       "      <td>427</td>\n",
       "    </tr>\n",
       "    <tr>\n",
       "      <th>5</th>\n",
       "      <td>S</td>\n",
       "      <td>1</td>\n",
       "      <td>217</td>\n",
       "    </tr>\n",
       "  </tbody>\n",
       "</table>\n",
       "</div>"
      ],
      "text/plain": [
       "  Embarked  Survived  Count_PassengerId\n",
       "0        C         0                 75\n",
       "1        C         1                 93\n",
       "2        Q         0                 47\n",
       "3        Q         1                 30\n",
       "4        S         0                427\n",
       "5        S         1                217"
      ]
     },
     "execution_count": 47,
     "metadata": {},
     "output_type": "execute_result"
    }
   ],
   "source": [
    "query = \"\"\"\n",
    "select Embarked, Survived, count(distinct PassengerId) as Count_PassengerId\n",
    "from data_with_age_grouping\n",
    "where Embarked is not null\n",
    "group by 1, 2\n",
    "order by 1, 2\n",
    "\"\"\"\n",
    "embarked_survival = psql.sqldf(query)\n",
    "embarked_survival"
   ]
  },
  {
   "cell_type": "code",
   "execution_count": 48,
   "id": "developed-amount",
   "metadata": {},
   "outputs": [
    {
     "name": "stdout",
     "output_type": "stream",
     "text": [
      "Percentage of Passenger that surived from Embarked C: 55%\n"
     ]
    }
   ],
   "source": [
    "percent = round((93/(75 + 93)) * 100)\n",
    "print(\"Percentage of Passenger that surived from Embarked C: %s%%\" % percent)"
   ]
  },
  {
   "cell_type": "markdown",
   "id": "ahead-salon",
   "metadata": {},
   "source": [
    "##### What slice of data do you think had the highest survival rate? Provide a percentage of survival for that slice. For ex. passengers that were `pClass` 3, females, over 65 could be an interesting subset of the data."
   ]
  },
  {
   "cell_type": "code",
   "execution_count": 49,
   "id": "gentle-popularity",
   "metadata": {},
   "outputs": [],
   "source": [
    "# add code here"
   ]
  },
  {
   "cell_type": "markdown",
   "id": "reverse-orange",
   "metadata": {},
   "source": [
    "##### Are there any other columns you would like to create by using data in other columns (similar to what we did with age groupings)? If so, add this new column on to the dataset."
   ]
  },
  {
   "cell_type": "code",
   "execution_count": 50,
   "id": "mysterious-bidding",
   "metadata": {},
   "outputs": [],
   "source": [
    "# add code here"
   ]
  }
 ],
 "metadata": {
  "kernelspec": {
   "display_name": "titanic",
   "language": "python",
   "name": "titanic"
  },
  "language_info": {
   "codemirror_mode": {
    "name": "ipython",
    "version": 3
   },
   "file_extension": ".py",
   "mimetype": "text/x-python",
   "name": "python",
   "nbconvert_exporter": "python",
   "pygments_lexer": "ipython3",
   "version": "3.8.8"
  }
 },
 "nbformat": 4,
 "nbformat_minor": 5
}
