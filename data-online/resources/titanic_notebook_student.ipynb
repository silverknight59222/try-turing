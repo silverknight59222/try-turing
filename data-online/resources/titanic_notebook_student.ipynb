{
 "cells": [
  {
   "cell_type": "code",
   "execution_count": 13,
   "id": "incorporated-twenty",
   "metadata": {},
   "outputs": [],
   "source": [
    "import pandas as pd\n",
    "import seaborn as sns\n",
    "import numpy as np\n",
    "!pip install pandasql\n",
    "import pandasql as psql\n",
    "pd.options.display.max_rows = 1000"
   ]
  },
  {
   "cell_type": "markdown",
   "id": "independent-minneapolis",
   "metadata": {},
   "source": [
    "# Data Try Coding"
   ]
  },
  {
   "cell_type": "markdown",
   "id": "ranging-design",
   "metadata": {},
   "source": [
    "## Titanic Data\n",
    "\n",
    "The data we will be using comes from the [Titanic Kaggle competition](https://www.kaggle.com/c/titanic/data). This dataset records key elements (including survival) from a sampling of passengers onboard the Titanic. Use the `Data Dictionary` section (from the link above) to get information about each column. The goal of this exercise is to use Dataframes and SQL to explore and manipulate the data to answer questions about passengers on the Titanic."
   ]
  },
  {
   "cell_type": "markdown",
   "id": "afraid-retention",
   "metadata": {},
   "source": [
    "## Instructions\n",
    "\n",
    "Upload this jupyter notebook to [google collab](https://colab.research.google.com/) and upload the `titanic.csv` dataset to to the `sample_data` folder. Run the top cell to make sure you are able to run all the packages required for this exercise."
   ]
  },
  {
   "cell_type": "markdown",
   "id": "aboriginal-tissue",
   "metadata": {},
   "source": [
    "## Load Data"
   ]
  },
  {
   "cell_type": "markdown",
   "id": "loved-portrait",
   "metadata": {},
   "source": [
    "##### 1. [Read](https://pandas.pydata.org/docs/reference/api/pandas.read_csv.html) in the data (`titanic_data.csv`) as a dataframe, set it to a variable `data`, and get the [shape](https://pandas.pydata.org/docs/reference/api/pandas.DataFrame.shape.html) of the dataframe. The shape shows the number of columns and rows."
   ]
  },
  {
   "cell_type": "code",
   "execution_count": 20,
   "id": "vanilla-celebrity",
   "metadata": {},
   "outputs": [],
   "source": [
    "data = pd.read_csv('/content/sample_data/<add filename>')"
   ]
  },
  {
   "cell_type": "code",
   "execution_count": 19,
   "id": "prepared-hayes",
   "metadata": {},
   "outputs": [],
   "source": [
    "assert data.shape[0] == 891\n",
    "assert data.shape[1] == 12"
   ]
  },
  {
   "cell_type": "markdown",
   "id": "fabulous-alexander",
   "metadata": {},
   "source": [
    "##### 2. Display the first 10 rows of the dataset. Hint look at the [head](https://pandas.pydata.org/docs/reference/api/pandas.DataFrame.head.html) function."
   ]
  },
  {
   "cell_type": "code",
   "execution_count": null,
   "id": "effective-invitation",
   "metadata": {},
   "outputs": [],
   "source": [
    "# add code here"
   ]
  },
  {
   "cell_type": "markdown",
   "id": "weighted-thong",
   "metadata": {},
   "source": [
    "## Summary Statistics"
   ]
  },
  {
   "cell_type": "markdown",
   "id": "careful-somalia",
   "metadata": {},
   "source": [
    "##### 1. Display the column data types and number of non-null records. (Hint: look at [info](https://pandas.pydata.org/docs/reference/api/pandas.DataFrame.info.html) function)."
   ]
  },
  {
   "cell_type": "code",
   "execution_count": null,
   "id": "applicable-honey",
   "metadata": {},
   "outputs": [],
   "source": [
    "# add code here"
   ]
  },
  {
   "cell_type": "markdown",
   "id": "comprehensive-princess",
   "metadata": {},
   "source": [
    "##### 2. Is there a column with a large proportion of null values? What percentage of that column has null values? [Round](https://www.w3schools.com/python/ref_func_round.asp) down to the nearest full percent. Set you value to a variable `percentage`."
   ]
  },
  {
   "cell_type": "code",
   "execution_count": null,
   "id": "related-knowing",
   "metadata": {},
   "outputs": [],
   "source": [
    "percentage = # add code here\n",
    "print(\"Percentage of Cabin column values that are null: %s%%\" % percentage)"
   ]
  },
  {
   "cell_type": "code",
   "execution_count": null,
   "id": "convinced-resolution",
   "metadata": {},
   "outputs": [],
   "source": [
    "assert percentage == 77"
   ]
  },
  {
   "cell_type": "markdown",
   "id": "floppy-affiliate",
   "metadata": {},
   "source": [
    "##### 3. Look at a summary of descriptive statistics which include count, mean, std, min, 25%, 50%, 75%, and max. (Hint look at the [describe](https://pandas.pydata.org/docs/reference/api/pandas.DataFrame.describe.html) function)"
   ]
  },
  {
   "cell_type": "code",
   "execution_count": null,
   "id": "failing-geology",
   "metadata": {},
   "outputs": [],
   "source": [
    "# add code here"
   ]
  },
  {
   "cell_type": "markdown",
   "id": "critical-capture",
   "metadata": {},
   "source": [
    "##### 4. Are there any interesting observations from these descriptive statistics? Are there any columns missing from the dataset that are not in the descriptive statistics? Why?"
   ]
  },
  {
   "cell_type": "markdown",
   "id": "modular-newspaper",
   "metadata": {},
   "source": [
    "Write your answer here:\n"
   ]
  },
  {
   "cell_type": "markdown",
   "id": "guided-origin",
   "metadata": {},
   "source": [
    "##### 5. Look at a summary of descriptive statistics for just male passengers."
   ]
  },
  {
   "cell_type": "code",
   "execution_count": null,
   "id": "becoming-enforcement",
   "metadata": {},
   "outputs": [],
   "source": [
    "query = \"\"\"\n",
    "select *\n",
    "from data\n",
    "where <insert SQL here>\n",
    "\"\"\"\n",
    "male_data = psql.sqldf(query)\n",
    "male_data.describe()"
   ]
  },
  {
   "cell_type": "markdown",
   "id": "married-grill",
   "metadata": {},
   "source": [
    "## Data Exploration"
   ]
  },
  {
   "cell_type": "markdown",
   "id": "armed-imperial",
   "metadata": {},
   "source": [
    "##### 1. Create a dataframe for the number of unique values for each column using SQL syntax. Set it to a variable `unique_columns`."
   ]
  },
  {
   "cell_type": "code",
   "execution_count": null,
   "id": "specific-import",
   "metadata": {},
   "outputs": [],
   "source": [
    "query = \"\"\"\n",
    "select \n",
    "    count(distinct PassengerId) as Count_PassengerId,\n",
    "    <insert SQL here>\n",
    "from data\n",
    "\"\"\"\n",
    "unique_columns = psql.sqldf(query)\n",
    "unique_columns"
   ]
  },
  {
   "cell_type": "code",
   "execution_count": null,
   "id": "turkish-asthma",
   "metadata": {},
   "outputs": [],
   "source": [
    "assert list(unique_columns['Count_PassengerId'])[0] == 891\n",
    "assert list(unique_columns['Count_Survived'])[0] == 2\n",
    "assert list(unique_columns['Count_Pclass'])[0] == 3\n",
    "assert list(unique_columns['Count_Name'])[0] == 891\n",
    "assert list(unique_columns['Count_Sex'])[0] == 2\n",
    "assert list(unique_columns['Count_Age'])[0] == 88\n",
    "assert list(unique_columns['Count_SibSp'])[0] == 7\n",
    "assert list(unique_columns['Count_Parch'])[0] == 7\n",
    "assert list(unique_columns['Count_Ticket'])[0] == 681\n",
    "assert list(unique_columns['Count_Fare'])[0] == 248\n",
    "assert list(unique_columns['Count_Cabin'])[0] == 147\n",
    "assert list(unique_columns['Count_Embarked'])[0] == 3"
   ]
  },
  {
   "cell_type": "markdown",
   "id": "narrative-bolivia",
   "metadata": {},
   "source": [
    "##### 2. Do these unique values confirm any of your observations from the descriptive statistics in the section above?"
   ]
  },
  {
   "cell_type": "markdown",
   "id": "opening-maine",
   "metadata": {},
   "source": [
    "Write your explanation here:"
   ]
  },
  {
   "cell_type": "markdown",
   "id": "occupied-amplifier",
   "metadata": {},
   "source": [
    "##### 3. How many of the passengers are male? How many are female? Create a single dataframe using SQL syntax and set it to a variable `gender_breakdown`."
   ]
  },
  {
   "cell_type": "code",
   "execution_count": null,
   "id": "photographic-title",
   "metadata": {},
   "outputs": [],
   "source": [
    "query = \"\"\"\n",
    "select\n",
    "    Sex,\n",
    "    count(<add column here>) as Count_PassengerId\n",
    "from data\n",
    "group by Sex\n",
    "\"\"\"\n",
    "gender_breakdown = psql.sqldf(query)\n",
    "gender_breakdown"
   ]
  },
  {
   "cell_type": "code",
   "execution_count": null,
   "id": "eastern-cleveland",
   "metadata": {},
   "outputs": [],
   "source": [
    "assert list(gender_breakdown.loc[gender_breakdown['Sex'] == 'female']['Count_PassengerId'])[0] == 314\n",
    "assert list(gender_breakdown.loc[gender_breakdown['Sex'] == 'male']['Count_PassengerId'])[0] == 577"
   ]
  },
  {
   "cell_type": "markdown",
   "id": "educational-roberts",
   "metadata": {},
   "source": [
    "##### 4. How many male passengers survived? How many female passengers survived? Create a single dataframe that answers both questions and set it to a variable `gender_survival`."
   ]
  },
  {
   "cell_type": "code",
   "execution_count": null,
   "id": "enormous-lesson",
   "metadata": {},
   "outputs": [],
   "source": [
    "query = \"\"\"\n",
    "select\n",
    "    Sex,\n",
    "    <add column here>,\n",
    "    count(<add column here>) as Count_PassengerId\n",
    "from data\n",
    "group by Sex, Survived\n",
    "\"\"\"\n",
    "gender_survival = psql.sqldf(query)\n",
    "gender_survival"
   ]
  },
  {
   "cell_type": "code",
   "execution_count": null,
   "id": "economic-number",
   "metadata": {
    "scrolled": true
   },
   "outputs": [],
   "source": [
    "female_dead = sorted(list(gender_survival.loc[(gender_survival['Sex'] == 'female')]['Count_PassengerId']))[0]\n",
    "female_survived = sorted(list(gender_survival.loc[(gender_survival['Sex'] == 'female')]['Count_PassengerId']))[1]\n",
    "male_dead = sorted(list(gender_survival.loc[(gender_survival['Sex'] == 'male')]['Count_PassengerId']))[1]\n",
    "male_survived = sorted(list(gender_survival.loc[(gender_survival['Sex'] == 'male')]['Count_PassengerId']))[0]\n",
    "\n",
    "assert female_dead == 81\n",
    "assert female_survived == 233\n",
    "assert male_dead == 468\n",
    "assert male_survived == 109"
   ]
  },
  {
   "cell_type": "markdown",
   "id": "suburban-roommate",
   "metadata": {},
   "source": [
    "##### 5. Create a [bar graph](https://seaborn.pydata.org/generated/seaborn.barplot.html) to show the gender survival breakdown calculated above. Feel free to play with the color schemes and other customizable options."
   ]
  },
  {
   "cell_type": "code",
   "execution_count": null,
   "id": "adequate-portuguese",
   "metadata": {},
   "outputs": [],
   "source": [
    "plot = sns.barplot(x = '<add column name>', y = 'Count_PassengerId', hue = 'Survived', data = <add dataframe variable>, order = ['male', 'female'])"
   ]
  },
  {
   "cell_type": "markdown",
   "id": "vertical-graphics",
   "metadata": {},
   "source": [
    "##### 6. Add a column called `age_group` to `data` that breaks down the passenger ages according to the rules below. Set this new dataframe to a variable `data_with_age_grouping`.\n",
    "- when Age is null then 'unknown'\n",
    "- when Age < 1 then 'under 1'\n",
    "- when Age < 5 then 'under 5'\n",
    "- when Age < 18 then 'under 18'\n",
    "- when Age < 24 then 'under 24'\n",
    "- when Age < 44 then 'under 44'\n",
    "- when Age < 65 then 'under 65'\n",
    "- when Age >= 65 then 'over 65'"
   ]
  },
  {
   "cell_type": "code",
   "execution_count": null,
   "id": "after-composite",
   "metadata": {},
   "outputs": [],
   "source": [
    "query = \"\"\"\n",
    "select\n",
    "    *,\n",
    "    case\n",
    "      when Age is null then 'unknown'\n",
    "      when Age < 1 then 'under 1'\n",
    "      <fill in SQL here>\n",
    "      else 'over 65'\n",
    "    end as age_group\n",
    "from data\n",
    "\"\"\"\n",
    "data_with_age_grouping = psql.sqldf(query)\n",
    "data_with_age_grouping.head()"
   ]
  },
  {
   "cell_type": "code",
   "execution_count": null,
   "id": "split-rendering",
   "metadata": {},
   "outputs": [],
   "source": [
    "passenger_6 = list(data_with_age_grouping.loc[data_with_age_grouping['PassengerId'] == 6]['age_group'])[0]\n",
    "passenger_832 = list(data_with_age_grouping.loc[data_with_age_grouping['PassengerId'] == 832]['age_group'])[0]\n",
    "passenger_828 = list(data_with_age_grouping.loc[data_with_age_grouping['PassengerId'] == 828]['age_group'])[0]\n",
    "passenger_831 = list(data_with_age_grouping.loc[data_with_age_grouping['PassengerId'] == 831]['age_group'])[0]\n",
    "passenger_834 = list(data_with_age_grouping.loc[data_with_age_grouping['PassengerId'] == 834]['age_group'])[0]\n",
    "passenger_823 = list(data_with_age_grouping.loc[data_with_age_grouping['PassengerId'] == 823]['age_group'])[0]\n",
    "passenger_821 = list(data_with_age_grouping.loc[data_with_age_grouping['PassengerId'] == 821]['age_group'])[0]\n",
    "passenger_631 = list(data_with_age_grouping.loc[data_with_age_grouping['PassengerId'] == 631]['age_group'])[0]\n",
    "\n",
    "assert passenger_6 == 'unknown'\n",
    "assert passenger_832 == 'under 1'\n",
    "assert passenger_828 == 'under 5'\n",
    "assert passenger_831 == 'under 18'\n",
    "assert passenger_834 == 'under 24'\n",
    "assert passenger_823 == 'under 44'\n",
    "assert passenger_821 == 'under 65'\n",
    "assert passenger_631 == 'over 65'"
   ]
  },
  {
   "cell_type": "markdown",
   "id": "genetic-brave",
   "metadata": {},
   "source": [
    "##### 7. Create a [plot](https://seaborn.pydata.org/generated/seaborn.countplot.html#seaborn.countplot) that visualizes the number of passengers in each respective age_group. Feel free to play with the color schemes and other customizable options."
   ]
  },
  {
   "cell_type": "code",
   "execution_count": null,
   "id": "instant-dispatch",
   "metadata": {},
   "outputs": [],
   "source": [
    "sns.set_theme(style = 'darkgrid')\n",
    "sns.set(rc={'figure.figsize':(10,6)})\n",
    "\n",
    "g = sns.countplot(x = '<add column here>', data = <add dataframe variable>, order=('unknown','under 1', 'under 5', 'under 18', 'under 24', 'under 44', 'under 65', 'over 65'))"
   ]
  },
  {
   "cell_type": "markdown",
   "id": "temporal-tucson",
   "metadata": {},
   "source": [
    "##### 8. Create a dataframe that answers: Within each age_group how many passengers survived and died? What was their average fare? Set this dataframe to a variable `age_grouping_aggregation`."
   ]
  },
  {
   "cell_type": "code",
   "execution_count": null,
   "id": "passive-handy",
   "metadata": {},
   "outputs": [],
   "source": [
    "query = \"\"\"\n",
    "select\n",
    "    <fill in SQL here>,\n",
    "    avg(Fare) as Average_Fare\n",
    "from data_with_age_grouping\n",
    "group by age_group, Survived\n",
    "order by age_group, Survived\n",
    "\"\"\"\n",
    "age_grouping_aggregation = psql.sqldf(query)\n",
    "age_grouping_aggregation"
   ]
  },
  {
   "cell_type": "code",
   "execution_count": null,
   "id": "silent-oxygen",
   "metadata": {},
   "outputs": [],
   "source": [
    "under_18_passenger_counts = sorted(list(age_grouping_aggregation.loc[age_grouping_aggregation['age_group'] == 'under 18']['Count_PassengerId']))\n",
    "under_18_passenger_avg_fares = sorted(list(age_grouping_aggregation.loc[age_grouping_aggregation['age_group'] == 'under 18']['Average_Fare']))\n",
    "over_65_passenger_counts = sorted(list(age_grouping_aggregation.loc[age_grouping_aggregation['age_group'] == 'over 65']['Count_PassengerId']))\n",
    "\n",
    "assert under_18_passenger_counts == [34, 39]\n",
    "assert under_18_passenger_avg_fares == [22.938892307692306, 39.32267352941175]\n",
    "assert over_65_passenger_counts == [1, 10]"
   ]
  },
  {
   "cell_type": "markdown",
   "id": "competitive-crisis",
   "metadata": {},
   "source": [
    "## Optional Challenge"
   ]
  },
  {
   "cell_type": "markdown",
   "id": "filled-jewel",
   "metadata": {},
   "source": [
    "##### Did the port (`Embarked` column) the passengers embarked from make a difference in their survival? Provide a percentage of passengers that survived from `Embarked` C. (Hint: this may take a couple of steps)"
   ]
  },
  {
   "cell_type": "code",
   "execution_count": 1,
   "id": "average-toilet",
   "metadata": {},
   "outputs": [],
   "source": [
    "# add code here"
   ]
  },
  {
   "cell_type": "markdown",
   "id": "brief-block",
   "metadata": {},
   "source": [
    "##### What slice of data do you think had the highest survival rate? Provide a percentage of survival for that slice. For ex. passengers that were `pClass` 3, females, over 65 could be an interesting subset of the data."
   ]
  },
  {
   "cell_type": "code",
   "execution_count": 2,
   "id": "official-chorus",
   "metadata": {},
   "outputs": [],
   "source": [
    "# add code here"
   ]
  },
  {
   "cell_type": "markdown",
   "id": "incident-gospel",
   "metadata": {},
   "source": [
    "##### Are there any other columns you would like to create by using data in other columns (similar to what we did with age groupings)? If so, add this new column on to the dataset."
   ]
  },
  {
   "cell_type": "code",
   "execution_count": 3,
   "id": "isolated-reading",
   "metadata": {},
   "outputs": [],
   "source": [
    "# add code here"
   ]
  }
 ],
 "metadata": {
  "kernelspec": {
   "display_name": "titanic",
   "language": "python",
   "name": "titanic"
  },
  "language_info": {
   "codemirror_mode": {
    "name": "ipython",
    "version": 3
   },
   "file_extension": ".py",
   "mimetype": "text/x-python",
   "name": "python",
   "nbconvert_exporter": "python",
   "pygments_lexer": "ipython3",
   "version": "3.8.8"
  }
 },
 "nbformat": 4,
 "nbformat_minor": 5
}
